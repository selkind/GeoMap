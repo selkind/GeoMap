{
 "cells": [
  {
   "cell_type": "markdown",
   "metadata": {},
   "source": [
    "# This Notebook explores the SCAR GeoMAP dataset released in 2019\n",
    "## Cox S.C., Smith Lyttle B. and the GeoMAP team (2019). Lower Hutt, New Zealand. GNS Science. Release v.201907.\n",
    "### [Data Available Here](https://data.gns.cri.nz/ata_geomap/index.html?content=/mapservice/Content/antarctica/www/index.html)\n",
    "### Notebook by Sam Elkind"
   ]
  },
  {
   "cell_type": "markdown",
   "metadata": {},
   "source": [
    "Initially, I'll look at the data in terms of polygon counts. This section will be focused on examining the data schema and frequency of values occurring within specific fields. This investigation will focus on finding inconsistencies in the data attribution, but also could stimulate some discussion regarding relationships between columns.\n",
    "\n",
    "Next, I'll look at the data in terms of polygon area and data attribution. How much surface water has been mapped? How much till has been mapped? How much outcropping rock is of Jurassic age?"
   ]
  },
  {
   "cell_type": "markdown",
   "metadata": {},
   "source": [
    "### Configure packages, paths, and load data"
   ]
  },
  {
   "cell_type": "code",
   "execution_count": 2,
   "metadata": {},
   "outputs": [],
   "source": [
    "import os\n",
    "import geopandas as gpd\n",
    "import pandas as pd\n",
    "import numpy as np\n",
    "import matplotlib.pyplot as plt\n",
    "from IPython.display import display\n",
    "import pprint as pp\n",
    "from tabulate import tabulate"
   ]
  },
  {
   "cell_type": "code",
   "execution_count": 3,
   "metadata": {},
   "outputs": [],
   "source": [
    "def plot_value_counts(field_name, values_to_plot, counts, counts_norm):\n",
    "    fig, ax = plt.subplots(2, 1, figsize=(30,15))\n",
    "    fig.tight_layout(pad=2.0)\n",
    "    fig.subplots_adjust(top=.94)\n",
    "    fig.suptitle(f\"Frequency of {field_name} values\", size=18)\n",
    "\n",
    "    ax[0].set_title(field_name)\n",
    "    ax[1].set_title(f\"{field_name} normalized\")\n",
    "    for i, v in enumerate(counts[:values_to_plot]):\n",
    "        ax[0].text(i - .5, v, str(v), color='black', fontweight='bold')\n",
    "    for i, v in enumerate(counts_norm[:values_to_plot]):\n",
    "        ax[1].text(i - .5, v, f\"{str(v * 100)[:3]}%\", color='black', fontweight='bold')\n",
    "    ax[0].bar(counts.index[:values_to_plot], counts[:values_to_plot])\n",
    "    ax[1].bar(counts_norm.index[:values_to_plot], counts_norm[:values_to_plot])"
   ]
  },
  {
   "cell_type": "code",
   "execution_count": 4,
   "metadata": {
    "tags": []
   },
   "outputs": [
    {
     "name": "stdout",
     "output_type": "stream",
     "text": [
      "/home/sam/geomap/data/ATA_SCAR_GeoMAP_geology.gdb\n"
     ]
    }
   ],
   "source": [
    "geol_path = f\"{os.getcwd()}/data/ATA_SCAR_GeoMAP_geology.gdb\"\n",
    "print(geol_path)"
   ]
  },
  {
   "cell_type": "code",
   "execution_count": 5,
   "metadata": {},
   "outputs": [],
   "source": [
    "data = gpd.read_file(geol_path)"
   ]
  },
  {
   "cell_type": "markdown",
   "metadata": {},
   "source": [
    "## Let's start by looking at the number of unique values for these two fields"
   ]
  },
  {
   "cell_type": "code",
   "execution_count": 9,
   "metadata": {},
   "outputs": [
    {
     "data": {
      "text/plain": [
       "NAME     666\n",
       "DESCR    757\n",
       "dtype: int64"
      ]
     },
     "metadata": {},
     "output_type": "display_data"
    }
   ],
   "source": [
    "display(data[[\"NAME\", \"DESCR\"]].nunique())"
   ]
  },
  {
   "cell_type": "markdown",
   "metadata": {},
   "source": [
    "## There are more descriptions than names, that kinda seems weird, I would expect to see a 1-1 relationship with these fields. Perhaps complexes with a varied lithology were given the same name value but different, more granular descriptions.\n",
    "\n",
    "### Let's take a look at the unique pairs of values that occur."
   ]
  },
  {
   "cell_type": "code",
   "execution_count": 7,
   "metadata": {},
   "outputs": [],
   "source": [
    "unique_pairs = data[[\"NAME\", \"DESCR\"]].drop_duplicates()\n",
    "unique_pairs[\"pair_id\"] = range(len(unique_pairs.index))"
   ]
  },
  {
   "cell_type": "code",
   "execution_count": 8,
   "metadata": {},
   "outputs": [
    {
     "data": {
      "text/html": [
       "<div>\n",
       "<style scoped>\n",
       "    .dataframe tbody tr th:only-of-type {\n",
       "        vertical-align: middle;\n",
       "    }\n",
       "\n",
       "    .dataframe tbody tr th {\n",
       "        vertical-align: top;\n",
       "    }\n",
       "\n",
       "    .dataframe thead th {\n",
       "        text-align: right;\n",
       "    }\n",
       "</style>\n",
       "<table border=\"1\" class=\"dataframe\">\n",
       "  <thead>\n",
       "    <tr style=\"text-align: right;\">\n",
       "      <th></th>\n",
       "      <th>NAME</th>\n",
       "      <th>DESCR</th>\n",
       "      <th>pair_id</th>\n",
       "    </tr>\n",
       "  </thead>\n",
       "  <tbody>\n",
       "    <tr>\n",
       "      <th>0</th>\n",
       "      <td>marine sedimentary and metasedimentary rocks (...</td>\n",
       "      <td>unfossiliferous low grade regional metamorphic...</td>\n",
       "      <td>0</td>\n",
       "    </tr>\n",
       "    <tr>\n",
       "      <th>3</th>\n",
       "      <td>intermediate intrusive rocks (early Jurassic t...</td>\n",
       "      <td>intermediate intrusive rocks (early Jurassic t...</td>\n",
       "      <td>1</td>\n",
       "    </tr>\n",
       "    <tr>\n",
       "      <th>5</th>\n",
       "      <td>Paleozoic-Triassic metamorphic rock</td>\n",
       "      <td>regionally metamorphosed rocks ranging from Pa...</td>\n",
       "      <td>2</td>\n",
       "    </tr>\n",
       "    <tr>\n",
       "      <th>7</th>\n",
       "      <td>sedimentary rocks (Paleozic to mid-Jurassic)</td>\n",
       "      <td>inferred sedimentary rocks  and low-grade meta...</td>\n",
       "      <td>3</td>\n",
       "    </tr>\n",
       "    <tr>\n",
       "      <th>10</th>\n",
       "      <td>Antarctic Peninsula Volcanic Group</td>\n",
       "      <td>calc-alkaline volcanic suite, lava flows predo...</td>\n",
       "      <td>4</td>\n",
       "    </tr>\n",
       "    <tr>\n",
       "      <th>...</th>\n",
       "      <td>...</td>\n",
       "      <td>...</td>\n",
       "      <td>...</td>\n",
       "    </tr>\n",
       "    <tr>\n",
       "      <th>94142</th>\n",
       "      <td>Shaw-Clemence Complex</td>\n",
       "      <td>aluminous gneisses, quartz feldspathic gneisse...</td>\n",
       "      <td>797</td>\n",
       "    </tr>\n",
       "    <tr>\n",
       "      <th>94939</th>\n",
       "      <td>None</td>\n",
       "      <td>younger till</td>\n",
       "      <td>798</td>\n",
       "    </tr>\n",
       "    <tr>\n",
       "      <th>94940</th>\n",
       "      <td>None</td>\n",
       "      <td>older till</td>\n",
       "      <td>799</td>\n",
       "    </tr>\n",
       "    <tr>\n",
       "      <th>95112</th>\n",
       "      <td>None</td>\n",
       "      <td>Orthopyroxene-biotite-quartz-plagioclase gneis...</td>\n",
       "      <td>800</td>\n",
       "    </tr>\n",
       "    <tr>\n",
       "      <th>95135</th>\n",
       "      <td>None</td>\n",
       "      <td>Orthopyroxene-quartz-plagioclase gneiss (tonal...</td>\n",
       "      <td>801</td>\n",
       "    </tr>\n",
       "  </tbody>\n",
       "</table>\n",
       "<p>802 rows × 3 columns</p>\n",
       "</div>"
      ],
      "text/plain": [
       "                                                    NAME  \\\n",
       "0      marine sedimentary and metasedimentary rocks (...   \n",
       "3      intermediate intrusive rocks (early Jurassic t...   \n",
       "5                    Paleozoic-Triassic metamorphic rock   \n",
       "7           sedimentary rocks (Paleozic to mid-Jurassic)   \n",
       "10                    Antarctic Peninsula Volcanic Group   \n",
       "...                                                  ...   \n",
       "94142                              Shaw-Clemence Complex   \n",
       "94939                                               None   \n",
       "94940                                               None   \n",
       "95112                                               None   \n",
       "95135                                               None   \n",
       "\n",
       "                                                   DESCR  pair_id  \n",
       "0      unfossiliferous low grade regional metamorphic...        0  \n",
       "3      intermediate intrusive rocks (early Jurassic t...        1  \n",
       "5      regionally metamorphosed rocks ranging from Pa...        2  \n",
       "7      inferred sedimentary rocks  and low-grade meta...        3  \n",
       "10     calc-alkaline volcanic suite, lava flows predo...        4  \n",
       "...                                                  ...      ...  \n",
       "94142  aluminous gneisses, quartz feldspathic gneisse...      797  \n",
       "94939                                       younger till      798  \n",
       "94940                                         older till      799  \n",
       "95112  Orthopyroxene-biotite-quartz-plagioclase gneis...      800  \n",
       "95135  Orthopyroxene-quartz-plagioclase gneiss (tonal...      801  \n",
       "\n",
       "[802 rows x 3 columns]"
      ]
     },
     "metadata": {},
     "output_type": "display_data"
    }
   ],
   "source": [
    "display(unique_pairs)"
   ]
  },
  {
   "cell_type": "markdown",
   "metadata": {},
   "source": [
    "#### Looks like there are a lot of names that have different descriptions. Let's see how many pairs have \"None\"s in the name column "
   ]
  },
  {
   "cell_type": "code",
   "execution_count": 53,
   "metadata": {},
   "outputs": [],
   "source": [
    "null_names = unique_pairs[unique_pairs[\"NAME\"].isnull()]"
   ]
  },
  {
   "cell_type": "code",
   "execution_count": 55,
   "metadata": {},
   "outputs": [
    {
     "data": {
      "text/html": [
       "<div>\n",
       "<style scoped>\n",
       "    .dataframe tbody tr th:only-of-type {\n",
       "        vertical-align: middle;\n",
       "    }\n",
       "\n",
       "    .dataframe tbody tr th {\n",
       "        vertical-align: top;\n",
       "    }\n",
       "\n",
       "    .dataframe thead th {\n",
       "        text-align: right;\n",
       "    }\n",
       "</style>\n",
       "<table border=\"1\" class=\"dataframe\">\n",
       "  <thead>\n",
       "    <tr style=\"text-align: right;\">\n",
       "      <th></th>\n",
       "      <th>NAME</th>\n",
       "      <th>DESCR</th>\n",
       "      <th>pair_id</th>\n",
       "    </tr>\n",
       "  </thead>\n",
       "  <tbody>\n",
       "    <tr>\n",
       "      <th>222</th>\n",
       "      <td>None</td>\n",
       "      <td>regionally metamorphosed rocks ranging from Ar...</td>\n",
       "      <td>20</td>\n",
       "    </tr>\n",
       "    <tr>\n",
       "      <th>61780</th>\n",
       "      <td>None</td>\n",
       "      <td>Gabbro-diorite and melamonzogranite, coeval wi...</td>\n",
       "      <td>468</td>\n",
       "    </tr>\n",
       "    <tr>\n",
       "      <th>85559</th>\n",
       "      <td>None</td>\n",
       "      <td>Orthopyroxene-quartz-feldspar gneiss (tonaliti...</td>\n",
       "      <td>670</td>\n",
       "    </tr>\n",
       "    <tr>\n",
       "      <th>85560</th>\n",
       "      <td>None</td>\n",
       "      <td>Layerd biotite-garnet-quartz-feldspar gneiss; ...</td>\n",
       "      <td>671</td>\n",
       "    </tr>\n",
       "    <tr>\n",
       "      <th>85562</th>\n",
       "      <td>None</td>\n",
       "      <td>Hornblende-clinopyroxene-orthopyroxene quartz ...</td>\n",
       "      <td>672</td>\n",
       "    </tr>\n",
       "    <tr>\n",
       "      <th>...</th>\n",
       "      <td>...</td>\n",
       "      <td>...</td>\n",
       "      <td>...</td>\n",
       "    </tr>\n",
       "    <tr>\n",
       "      <th>93976</th>\n",
       "      <td>None</td>\n",
       "      <td>Bt and Hb-Bt granite plutons</td>\n",
       "      <td>795</td>\n",
       "    </tr>\n",
       "    <tr>\n",
       "      <th>94939</th>\n",
       "      <td>None</td>\n",
       "      <td>younger till</td>\n",
       "      <td>798</td>\n",
       "    </tr>\n",
       "    <tr>\n",
       "      <th>94940</th>\n",
       "      <td>None</td>\n",
       "      <td>older till</td>\n",
       "      <td>799</td>\n",
       "    </tr>\n",
       "    <tr>\n",
       "      <th>95112</th>\n",
       "      <td>None</td>\n",
       "      <td>Orthopyroxene-biotite-quartz-plagioclase gneis...</td>\n",
       "      <td>800</td>\n",
       "    </tr>\n",
       "    <tr>\n",
       "      <th>95135</th>\n",
       "      <td>None</td>\n",
       "      <td>Orthopyroxene-quartz-plagioclase gneiss (tonal...</td>\n",
       "      <td>801</td>\n",
       "    </tr>\n",
       "  </tbody>\n",
       "</table>\n",
       "<p>64 rows × 3 columns</p>\n",
       "</div>"
      ],
      "text/plain": [
       "       NAME                                              DESCR  pair_id\n",
       "222    None  regionally metamorphosed rocks ranging from Ar...       20\n",
       "61780  None  Gabbro-diorite and melamonzogranite, coeval wi...      468\n",
       "85559  None  Orthopyroxene-quartz-feldspar gneiss (tonaliti...      670\n",
       "85560  None  Layerd biotite-garnet-quartz-feldspar gneiss; ...      671\n",
       "85562  None  Hornblende-clinopyroxene-orthopyroxene quartz ...      672\n",
       "...     ...                                                ...      ...\n",
       "93976  None                       Bt and Hb-Bt granite plutons      795\n",
       "94939  None                                       younger till      798\n",
       "94940  None                                         older till      799\n",
       "95112  None  Orthopyroxene-biotite-quartz-plagioclase gneis...      800\n",
       "95135  None  Orthopyroxene-quartz-plagioclase gneiss (tonal...      801\n",
       "\n",
       "[64 rows x 3 columns]"
      ]
     },
     "metadata": {},
     "output_type": "display_data"
    }
   ],
   "source": [
    "display(null_names)"
   ]
  },
  {
   "cell_type": "code",
   "execution_count": 61,
   "metadata": {},
   "outputs": [
    {
     "name": "stdout",
     "output_type": "stream",
     "text": [
      "738 unique pairs have a NAME without a value, but a description with a value\n",
      "5119 polygons have a NAME without a value. Let's get a list of the unique sources for these polygons so we can check them if needed\n"
     ]
    }
   ],
   "source": [
    "print(f\"{unique_pairs.shape[0] - null_names.shape[0]} unique pairs have a NAME without a value, but a description with a value\")\n",
    "print(f\"{data[data['NAME'].isnull()].shape[0]} polygons have a NAME without a value. Let's get a list of the unique sources for these polygons so we can check them if needed\")"
   ]
  },
  {
   "cell_type": "code",
   "execution_count": 63,
   "metadata": {},
   "outputs": [],
   "source": [
    "null_name_sources = data[data['NAME'].isnull()][[\"SOURCECODE\", \"MAPSYMBOL\", \"NAME\", \"SOURCE\"]]"
   ]
  },
  {
   "cell_type": "code",
   "execution_count": 68,
   "metadata": {},
   "outputs": [
    {
     "data": {
      "text/html": [
       "<div>\n",
       "<style scoped>\n",
       "    .dataframe tbody tr th:only-of-type {\n",
       "        vertical-align: middle;\n",
       "    }\n",
       "\n",
       "    .dataframe tbody tr th {\n",
       "        vertical-align: top;\n",
       "    }\n",
       "\n",
       "    .dataframe thead th {\n",
       "        text-align: right;\n",
       "    }\n",
       "</style>\n",
       "<table border=\"1\" class=\"dataframe\">\n",
       "  <thead>\n",
       "    <tr style=\"text-align: right;\">\n",
       "      <th></th>\n",
       "      <th>SOURCECODE</th>\n",
       "      <th>MAPSYMBOL</th>\n",
       "      <th>NAME</th>\n",
       "      <th>SOURCE</th>\n",
       "    </tr>\n",
       "  </thead>\n",
       "  <tbody>\n",
       "    <tr>\n",
       "      <th>222</th>\n",
       "      <td>m</td>\n",
       "      <td>?n</td>\n",
       "      <td>None</td>\n",
       "      <td>Thomson &amp; Harris 1979_Southern Graham Land</td>\n",
       "    </tr>\n",
       "    <tr>\n",
       "      <th>14398</th>\n",
       "      <td>m</td>\n",
       "      <td>?n</td>\n",
       "      <td>None</td>\n",
       "      <td>Thomson et al. 1982 North Palmer Land</td>\n",
       "    </tr>\n",
       "    <tr>\n",
       "      <th>20274</th>\n",
       "      <td>m</td>\n",
       "      <td>?n</td>\n",
       "      <td>None</td>\n",
       "      <td>Burton-Johnson &amp; Riley 2015</td>\n",
       "    </tr>\n",
       "    <tr>\n",
       "      <th>61780</th>\n",
       "      <td>GHgra</td>\n",
       "      <td>EOd</td>\n",
       "      <td>None</td>\n",
       "      <td>Pertusati et al. 2012</td>\n",
       "    </tr>\n",
       "    <tr>\n",
       "      <th>85559</th>\n",
       "      <td>Pp</td>\n",
       "      <td>Rzn</td>\n",
       "      <td>None</td>\n",
       "      <td>Sheraton 1985. Geology of Enderby Land and Wes...</td>\n",
       "    </tr>\n",
       "    <tr>\n",
       "      <th>...</th>\n",
       "      <td>...</td>\n",
       "      <td>...</td>\n",
       "      <td>...</td>\n",
       "      <td>...</td>\n",
       "    </tr>\n",
       "    <tr>\n",
       "      <th>93976</th>\n",
       "      <td>AR-PPg1</td>\n",
       "      <td>ALg</td>\n",
       "      <td>None</td>\n",
       "      <td>Mikhalsky etal 2001, Prince Charles Mountains</td>\n",
       "    </tr>\n",
       "    <tr>\n",
       "      <th>94939</th>\n",
       "      <td>Ty</td>\n",
       "      <td>Czs</td>\n",
       "      <td>None</td>\n",
       "      <td>Ishikawa et al. 2000. Geological map of Mount ...</td>\n",
       "    </tr>\n",
       "    <tr>\n",
       "      <th>94940</th>\n",
       "      <td>To</td>\n",
       "      <td>Czs</td>\n",
       "      <td>None</td>\n",
       "      <td>Ishikawa et al. 2000. Geological map of Mount ...</td>\n",
       "    </tr>\n",
       "    <tr>\n",
       "      <th>95112</th>\n",
       "      <td>Ppp</td>\n",
       "      <td>Rzn</td>\n",
       "      <td>None</td>\n",
       "      <td>Sheraton 1985. Geology of Enderby Land and Wes...</td>\n",
       "    </tr>\n",
       "    <tr>\n",
       "      <th>95135</th>\n",
       "      <td>Ppp</td>\n",
       "      <td>Rzn</td>\n",
       "      <td>None</td>\n",
       "      <td>AGSO, Bedrock Geology of the Bunger Hills-Denm...</td>\n",
       "    </tr>\n",
       "  </tbody>\n",
       "</table>\n",
       "<p>67 rows × 4 columns</p>\n",
       "</div>"
      ],
      "text/plain": [
       "      SOURCECODE MAPSYMBOL  NAME  \\\n",
       "222            m        ?n  None   \n",
       "14398          m        ?n  None   \n",
       "20274          m        ?n  None   \n",
       "61780      GHgra       EOd  None   \n",
       "85559         Pp       Rzn  None   \n",
       "...          ...       ...   ...   \n",
       "93976    AR-PPg1       ALg  None   \n",
       "94939         Ty       Czs  None   \n",
       "94940         To       Czs  None   \n",
       "95112        Ppp       Rzn  None   \n",
       "95135        Ppp       Rzn  None   \n",
       "\n",
       "                                                  SOURCE  \n",
       "222           Thomson & Harris 1979_Southern Graham Land  \n",
       "14398              Thomson et al. 1982 North Palmer Land  \n",
       "20274                        Burton-Johnson & Riley 2015  \n",
       "61780                              Pertusati et al. 2012  \n",
       "85559  Sheraton 1985. Geology of Enderby Land and Wes...  \n",
       "...                                                  ...  \n",
       "93976      Mikhalsky etal 2001, Prince Charles Mountains  \n",
       "94939  Ishikawa et al. 2000. Geological map of Mount ...  \n",
       "94940  Ishikawa et al. 2000. Geological map of Mount ...  \n",
       "95112  Sheraton 1985. Geology of Enderby Land and Wes...  \n",
       "95135  AGSO, Bedrock Geology of the Bunger Hills-Denm...  \n",
       "\n",
       "[67 rows x 4 columns]"
      ]
     },
     "metadata": {},
     "output_type": "display_data"
    }
   ],
   "source": [
    "display(null_name_sources.drop_duplicates([\"SOURCECODE\",\"SOURCE\"]))"
   ]
  },
  {
   "cell_type": "markdown",
   "metadata": {},
   "source": [
    "### A significant number of pol"
   ]
  }
 ],
 "metadata": {
  "kernelspec": {
   "display_name": "Python 3",
   "language": "python",
   "name": "python3"
  },
  "language_info": {
   "codemirror_mode": {
    "name": "ipython",
    "version": 3
   },
   "file_extension": ".py",
   "mimetype": "text/x-python",
   "name": "python",
   "nbconvert_exporter": "python",
   "pygments_lexer": "ipython3",
   "version": "3.8.0"
  }
 },
 "nbformat": 4,
 "nbformat_minor": 4
}
