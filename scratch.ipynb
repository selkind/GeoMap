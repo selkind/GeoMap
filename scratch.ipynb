{
 "metadata": {
  "language_info": {
   "codemirror_mode": {
    "name": "ipython",
    "version": 3
   },
   "file_extension": ".py",
   "mimetype": "text/x-python",
   "name": "python",
   "nbconvert_exporter": "python",
   "pygments_lexer": "ipython3",
   "version": 3
  },
  "orig_nbformat": 2,
  "kernelspec": {
   "name": "python_defaultSpec_1596164064491",
   "display_name": "Python 3.8.0 64-bit ('venv': venv)"
  }
 },
 "nbformat": 4,
 "nbformat_minor": 2,
 "cells": [
  {
   "cell_type": "markdown",
   "metadata": {},
   "source": [
    "# This Notebook explores the SCAR GeoMAP dataset released in 2019\n",
    "## Cox S.C., Smith Lyttle B. and the GeoMAP team (2019). Lower Hutt, New Zealand. GNS Science. Release v.201907.\n",
    "### [Data Available Here](https://data.gns.cri.nz/ata_geomap/index.html?content=/mapservice/Content/antarctica/www/index.html)"
   ]
  },
  {
   "cell_type": "markdown",
   "metadata": {},
   "source": [
    "## Configure packages, paths, and load data"
   ]
  },
  {
   "cell_type": "code",
   "execution_count": 2,
   "metadata": {},
   "outputs": [],
   "source": [
    "import os\n",
    "import geopandas as gpd\n",
    "import matplotlib as plt"
   ]
  },
  {
   "cell_type": "code",
   "execution_count": 5,
   "metadata": {
    "tags": []
   },
   "outputs": [
    {
     "output_type": "stream",
     "name": "stdout",
     "text": "/home/sam/geomap/data/ATA_SCAR_GeoMAP_geology.gdb\n"
    }
   ],
   "source": [
    "geol_path = f\"{os.getcwd()}/data/ATA_SCAR_GeoMAP_geology.gdb\"\n",
    "print(geol_path)"
   ]
  },
  {
   "cell_type": "code",
   "execution_count": 6,
   "metadata": {},
   "outputs": [],
   "source": [
    "data = gpd.read_file(geol_path)"
   ]
  },
  {
   "cell_type": "markdown",
   "metadata": {},
   "source": [
    "## Some Metadata exploration"
   ]
  },
  {
   "cell_type": "code",
   "execution_count": 16,
   "metadata": {
    "tags": []
   },
   "outputs": [
    {
     "output_type": "stream",
     "name": "stdout",
     "text": "SOURCECODE\tMAPSYMBOL\tPLOTSYMBOL\t\nNAME\tDESCR\tPOLYGTYPE\t\nMBREQUIV\tFMNEQUIV\tSBGRPEQUIV\t\nGRPEQUIV\tSPGRPEQUIV\tTERREQUIV\t\nSTRATRANK\tTYPENAME\tTYPE_URI\t\nGEOLHIST\tREPAGE_URI\tYNGAGE_URI\t\nOLDAGE_URI\tABSMIN_MA\tABSMAX_MA\t\nAGECODE\tLITHCODE\tLITHOLOGY\t\nREPLITH_URI\tOBSMETHOD\tCONFIDENCE\t\nPOSACC_M\tSOURCE\tMETADATA\t\nRESSCALE\tCAPTSCALE\tCAPTDATE\t\nMODDATE\tFEATUREID\tSPEC_URI\t\nSYMBOL\tDATASET\tREGION\t\nShape_Length\tShape_Area\tgeometry\t\n\n"
    }
   ],
   "source": [
    "cols = \"\"\n",
    "for i in range(len(data.columns)):\n",
    "    cols += f'{data.columns[i]}\\t'\n",
    "    if (i + 1) % 3 == 0:\n",
    "        cols += '\\n'\n",
    "print(cols)\n"
   ]
  },
  {
   "cell_type": "code",
   "execution_count": 34,
   "metadata": {
    "tags": []
   },
   "outputs": [],
   "source": [
    "symbols = data[\"MAPSYMBOL\"].value_counts(ascending=False)\n",
    "poly_types = data[\"POLYGTYPE\"].value_counts(ascending=False)\n",
    "obs_method = data[\"OBSMETHOD\"].value_counts(ascending=False)\n",
    "datasets = data[\"DATASET\"].value_counts(ascending=False)\n",
    "regions = data[\"REGION\"].value_counts(ascending=False)\n",
    "lithology = data[\"LITHOLOGY\"].value_counts(ascending=False)"
   ]
  },
  {
   "cell_type": "code",
   "execution_count": 35,
   "metadata": {
    "tags": []
   },
   "outputs": [
    {
     "output_type": "stream",
     "name": "stdout",
     "text": "JKg    6608\nEOg    4707\n?      4654\nCTw    4479\nEOs    4015\n       ... \nPzq       2\nDn        2\nEt        1\nRzh       1\nJKj       1\nName: MAPSYMBOL, Length: 173, dtype: int64\nrock       86144\nmoraine     6481\nice         2536\nName: POLYGTYPE, dtype: int64\nsynthesis from multiple sources                  74836\npolygon unit inferred from regional-scale map    11513\nremotely sensed data                              4889\ndigital conversion from published source          3168\noutcrop observation                                755\nName: OBSMETHOD, dtype: int64\nATA_PEN_geological_units     37951\nATA_NVL_geological_units     14100\nATA_CTAM_geological_units    11341\nATA_WAAT_geological_units     9602\nATA_DML_geological_units      8539\nATA_SVL_geological_units      6488\nATA_EM_geological_units       2808\nATA_MBL_geological_units      2312\nATA_QEL_geological_units      2020\nName: DATASET, dtype: int64\nEast Antarctica    52090\nWest Antarctica    43071\nName: REGION, dtype: int64\nunknown                                                                   6963\nmetasedimentary                                                           4479\ngranite                                                                   4042\ngneiss                                                                    3584\ncalc-alkaline volcanic rocks, pyroclastics, tuff, breccia, agglomerate    3492\n                                                                          ... \nbreccia, tuff, mudstone, minor basalt                                        1\nmugearite                                                                    1\nmonzonite, syenite, granite                                                  1\nmonzonite, monzodiorite, diorite, gabbro                                     1\nbreccia, tuff                                                                1\nName: LITHOLOGY, Length: 410, dtype: int64\n"
    }
   ],
   "source": [
    "print(symbols)\n",
    "print(poly_types)\n",
    "print(obs_method)\n",
    "print(datasets)\n",
    "print(regions)\n",
    "print(lithology)"
   ]
  },
  {
   "cell_type": "markdown",
   "metadata": {},
   "source": [
    "## Basic descriptive statistics"
   ]
  }
 ]
}