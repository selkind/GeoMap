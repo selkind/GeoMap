{
 "cells": [
  {
   "cell_type": "markdown",
   "metadata": {},
   "source": [
    "# This Notebook explores the SCAR GeoMAP dataset released in 2019\n",
    "## Cox S.C., Smith Lyttle B. and the GeoMAP team (2019). Lower Hutt, New Zealand. GNS Science. Release v.201907.\n",
    "### [Data Available Here](https://data.gns.cri.nz/ata_geomap/index.html?content=/mapservice/Content/antarctica/www/index.html)\n",
    "### Notebook by Sam Elkind"
   ]
  },
  {
   "cell_type": "markdown",
   "metadata": {},
   "source": [
    "Initially, I'll look at the data in terms of polygon counts. This section will be focused on examining the data schema and frequency of values occurring within specific fields. This investigation will focus on finding inconsistencies in the data attribution, but also could stimulate some discussion regarding relationships between columns.\n",
    "\n",
    "Next, I'll look at the data in terms of polygon area and data attribution. How much surface water has been mapped? How much till has been mapped? How much outcropping rock is of Jurassic age?"
   ]
  },
  {
   "cell_type": "markdown",
   "metadata": {},
   "source": [
    "### Configure packages, paths, and load data"
   ]
  },
  {
   "cell_type": "code",
   "execution_count": 1,
   "metadata": {},
   "outputs": [],
   "source": [
    "import os\n",
    "import geopandas as gpd\n",
    "import pandas as pd\n",
    "import numpy as np\n",
    "import matplotlib.pyplot as plt\n",
    "from IPython.display import display\n",
    "import pprint as pp\n",
    "from tabulate import tabulate"
   ]
  },
  {
   "cell_type": "code",
   "execution_count": 2,
   "metadata": {},
   "outputs": [],
   "source": [
    "def plot_value_counts(field_name, values_to_plot, counts, counts_norm):\n",
    "    fig, ax = plt.subplots(2, 1, figsize=(30,15))\n",
    "    fig.tight_layout(pad=2.0)\n",
    "    fig.subplots_adjust(top=.94)\n",
    "    fig.suptitle(f\"Frequency of {field_name} values\", size=18)\n",
    "\n",
    "    ax[0].set_title(field_name)\n",
    "    ax[1].set_title(f\"{field_name} normalized\")\n",
    "    for i, v in enumerate(counts[:values_to_plot]):\n",
    "        ax[0].text(i - .5, v, str(v), color='black', fontweight='bold')\n",
    "    for i, v in enumerate(counts_norm[:values_to_plot]):\n",
    "        ax[1].text(i - .5, v, f\"{str(v * 100)[:3]}%\", color='black', fontweight='bold')\n",
    "    ax[0].bar(counts.index[:values_to_plot], counts[:values_to_plot])\n",
    "    ax[1].bar(counts_norm.index[:values_to_plot], counts_norm[:values_to_plot])"
   ]
  },
  {
   "cell_type": "code",
   "execution_count": 3,
   "metadata": {
    "tags": []
   },
   "outputs": [
    {
     "name": "stdout",
     "output_type": "stream",
     "text": [
      "/home/gt/geomap/data/ATA_SCAR_GeoMAP_geology.gdb\n"
     ]
    }
   ],
   "source": [
    "geol_path = f\"{os.getcwd()}/data/ATA_SCAR_GeoMAP_geology.gdb\"\n",
    "print(geol_path)"
   ]
  },
  {
   "cell_type": "code",
   "execution_count": 4,
   "metadata": {},
   "outputs": [],
   "source": [
    "data = gpd.read_file(geol_path)"
   ]
  },
  {
   "cell_type": "code",
   "execution_count": 25,
   "metadata": {},
   "outputs": [
    {
     "data": {
      "text/plain": [
       "2017-07-26T00:00:00    37071\n",
       "2016-01-01T00:00:00    16067\n",
       "2016-11-01T00:00:00    11341\n",
       "2017-01-01T00:00:00     8439\n",
       "2017-12-20T00:00:00     7952\n",
       "2010-01-01T00:00:00     6488\n",
       "2018-01-18T00:00:00     3130\n",
       "2017-07-15T00:00:00     2396\n",
       "2019-07-08T00:00:00      880\n",
       "2018-01-10T00:00:00      524\n",
       "2019-06-01T00:00:00      412\n",
       "2018-06-02T00:00:00      345\n",
       "2019-04-01T00:00:00      100\n",
       "2584-06-21T00:00:00       16\n",
       "Name: CAPTDATE, dtype: int64"
      ]
     },
     "metadata": {},
     "output_type": "display_data"
    }
   ],
   "source": [
    "display(data[\"CAPTDATE\"].value_counts())"
   ]
  }
 ],
 "metadata": {
  "kernelspec": {
   "display_name": "Python 3",
   "language": "python",
   "name": "python3"
  },
  "language_info": {
   "codemirror_mode": {
    "name": "ipython",
    "version": 3
   },
   "file_extension": ".py",
   "mimetype": "text/x-python",
   "name": "python",
   "nbconvert_exporter": "python",
   "pygments_lexer": "ipython3",
   "version": "3.8.2"
  }
 },
 "nbformat": 4,
 "nbformat_minor": 4
}
