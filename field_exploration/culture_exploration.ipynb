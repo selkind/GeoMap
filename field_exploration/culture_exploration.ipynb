{
 "cells": [
  {
   "cell_type": "markdown",
   "metadata": {},
   "source": [
    "# This Notebook explores the SCAR GeoMAP dataset released in 2019\n",
    "## Cox S.C., Smith Lyttle B. and the GeoMAP team (2019). Lower Hutt, New Zealand. GNS Science. Release v.201907.\n",
    "### [Data Available Here](https://data.gns.cri.nz/ata_geomap/index.html?content=/mapservice/Content/antarctica/www/index.html)\n",
    "### Notebook by Sam Elkind"
   ]
  },
  {
   "cell_type": "markdown",
   "metadata": {},
   "source": [
    "Initially, I'll look at the data in terms of polygon counts. This section will be focused on examining the data schema and frequency of values occurring within specific fields. This investigation will focus on finding inconsistencies in the data attribution, but also could stimulate some discussion regarding relationships between columns.\n",
    "\n",
    "Next, I'll look at the data in terms of polygon area and data attribution. How much surface water has been mapped? How much till has been mapped? How much outcropping rock is of Jurassic age?"
   ]
  },
  {
   "cell_type": "markdown",
   "metadata": {},
   "source": [
    "### Configure packages, paths, and load data"
   ]
  },
  {
   "cell_type": "code",
   "execution_count": 19,
   "metadata": {},
   "outputs": [],
   "source": [
    "import os\n",
    "import geopandas as gpd\n",
    "import pandas as pd\n",
    "import numpy as np\n",
    "import matplotlib.pyplot as plt\n",
    "from IPython.display import display\n",
    "import pprint as pp\n",
    "from tabulate import tabulate\n",
    "import fiona"
   ]
  },
  {
   "cell_type": "code",
   "execution_count": 20,
   "metadata": {},
   "outputs": [],
   "source": [
    "def plot_value_counts(field_name, values_to_plot, counts, counts_norm):\n",
    "    fig, ax = plt.subplots(2, 1, figsize=(30,15))\n",
    "    fig.tight_layout(pad=2.0)\n",
    "    fig.subplots_adjust(top=.94)\n",
    "    fig.suptitle(f\"Frequency of {field_name} values\", size=18)\n",
    "\n",
    "    ax[0].set_title(field_name)\n",
    "    ax[1].set_title(f\"{field_name} normalized\")\n",
    "    for i, v in enumerate(counts[:values_to_plot]):\n",
    "        ax[0].text(i - .5, v, str(v), color='black', fontweight='bold')\n",
    "    for i, v in enumerate(counts_norm[:values_to_plot]):\n",
    "        ax[1].text(i - .5, v, f\"{str(v * 100)[:3]}%\", color='black', fontweight='bold')\n",
    "    ax[0].bar(counts.index[:values_to_plot], counts[:values_to_plot])\n",
    "    ax[1].bar(counts_norm.index[:values_to_plot], counts_norm[:values_to_plot])"
   ]
  },
  {
   "cell_type": "code",
   "execution_count": 21,
   "metadata": {
    "tags": []
   },
   "outputs": [],
   "source": [
    "bib_path = f\"{os.getcwd()}/../data/ATA_SCAR_GeoMAP_geology.gdb\""
   ]
  },
  {
   "cell_type": "code",
   "execution_count": 22,
   "metadata": {},
   "outputs": [
    {
     "name": "stdout",
     "output_type": "stream",
     "text": [
      "['ATA_geological_units', 'ATA_faults', 'ATA_sources_poly', 'ATA_GeoMAP_qualityinformation']\n"
     ]
    }
   ],
   "source": [
    "print(fiona.listlayers(bib_path))"
   ]
  },
  {
   "cell_type": "code",
   "execution_count": 23,
   "metadata": {},
   "outputs": [],
   "source": [
    "data = gpd.read_file(bib_path, layer=\"ATA_sources_poly\")"
   ]
  },
  {
   "cell_type": "code",
   "execution_count": 24,
   "metadata": {},
   "outputs": [
    {
     "name": "stdout",
     "output_type": "stream",
     "text": [
      "Index(['IDENTIFIER', 'TITLE', 'AUTHORS', 'PUBLICATION', 'INSTITUTION', 'SCALE',\n",
      "       'YEAR', 'PUBTYPE', 'NATPROG', 'METADATA', 'RESSCALE', 'CAPTSCALE',\n",
      "       'CAPTDATE', 'MODDATE', 'FEATUREID', 'SPEC_URI', 'SYMBOL',\n",
      "       'Shape_Length', 'Shape_Area', 'geometry'],\n",
      "      dtype='object')\n"
     ]
    }
   ],
   "source": [
    "print(data.columns)"
   ]
  },
  {
   "cell_type": "code",
   "execution_count": 33,
   "metadata": {},
   "outputs": [
    {
     "name": "stdout",
     "output_type": "stream",
     "text": [
      "USA             155\n",
      "NZ              136\n",
      "UK               45\n",
      "Japan            43\n",
      "South Africa     28\n",
      "Germany          28\n",
      "Australia        21\n",
      "Norway           19\n",
      "GIGAMAP          15\n",
      "Italy            14\n",
      "USSR              2\n",
      "GANOVEX           2\n",
      "India             1\n",
      "Canada            1\n",
      "PNRA              1\n",
      "Soviet Union      1\n",
      "Russia            1\n",
      "Korea             1\n",
      "China             1\n",
      "Name: NATPROG, dtype: int64\n"
     ]
    }
   ],
   "source": [
    "print(data[\"NATPROG\"].value_counts())"
   ]
  },
  {
   "cell_type": "code",
   "execution_count": null,
   "metadata": {},
   "outputs": [],
   "source": [
    "https://scholar.google.com/scholar?hl=en&as_sdt=0%2C6&q=test&btnG="
   ]
  }
 ],
 "metadata": {
  "kernelspec": {
   "display_name": "Python 3",
   "language": "python",
   "name": "python3"
  },
  "language_info": {
   "codemirror_mode": {
    "name": "ipython",
    "version": 3
   },
   "file_extension": ".py",
   "mimetype": "text/x-python",
   "name": "python",
   "nbconvert_exporter": "python",
   "pygments_lexer": "ipython3",
   "version": "3.8.2"
  }
 },
 "nbformat": 4,
 "nbformat_minor": 4
}
